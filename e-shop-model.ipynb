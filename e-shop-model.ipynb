{
 "cells": [
  {
   "metadata": {},
   "cell_type": "markdown",
   "source": [
    "This program predict if the price a product is sold for is higher than the average price for the entire product category or not\n",
    "\n",
    "the prediction is done using logistic regression and KNN"
   ]
  },
  {
   "cell_type": "code",
   "metadata": {
    "ExecuteTime": {
     "end_time": "2024-06-08T00:57:30.876241Z",
     "start_time": "2024-06-08T00:57:30.872174Z"
    }
   },
   "source": [
    "import matplotlib.pyplot as plt\n",
    "import numpy as np\n",
    "import pandas as pd\n",
    "import seaborn as sn\n",
    "from sklearn.preprocessing import StandardScaler"
   ],
   "execution_count": 3,
   "outputs": []
  },
  {
   "cell_type": "code",
   "metadata": {
    "ExecuteTime": {
     "end_time": "2024-06-08T00:57:31.160472Z",
     "start_time": "2024-06-08T00:57:31.034504Z"
    }
   },
   "source": [
    "df = pd.read_csv('e-shop clothing 2008.csv', sep=';', )\n",
    "\n",
    "df"
   ],
   "execution_count": 4,
   "outputs": []
  },
  {
   "cell_type": "code",
   "metadata": {
    "ExecuteTime": {
     "end_time": "2024-06-08T00:57:31.164094Z",
     "start_time": "2024-06-08T00:57:31.161507Z"
    }
   },
   "source": [
    "df.shape"
   ],
   "execution_count": 5,
   "outputs": []
  },
  {
   "cell_type": "code",
   "metadata": {
    "ExecuteTime": {
     "end_time": "2024-06-08T00:57:31.172375Z",
     "start_time": "2024-06-08T00:57:31.164754Z"
    }
   },
   "source": [
    "dfNew = df.loc[(df[\"country\"] == 43) | (df[\"country\"] == 44) | (df[\"country\"] == 45) | (df[\"country\"] == 46) | (\n",
    "        df[\"country\"] == 46) | (df[\"country\"] == 47)]\n",
    "print(dfNew.shape)\n",
    "df[df['country'] == '43-biz']"
   ],
   "execution_count": 6,
   "outputs": []
  },
  {
   "cell_type": "code",
   "metadata": {
    "ExecuteTime": {
     "end_time": "2024-06-08T00:57:31.176387Z",
     "start_time": "2024-06-08T00:57:31.173757Z"
    }
   },
   "source": [
    "df.columns"
   ],
   "execution_count": 7,
   "outputs": []
  },
  {
   "cell_type": "code",
   "metadata": {
    "ExecuteTime": {
     "end_time": "2024-06-08T00:57:31.181453Z",
     "start_time": "2024-06-08T00:57:31.177101Z"
    }
   },
   "source": [
    "# change some header name\n",
    "df = df.rename(columns={\n",
    "    \"session ID\": \"session_ID\",\n",
    "    \"page 1 (main category)\": \"category\",\n",
    "    \"page 2 (clothing model)\": \"page_2\",\n",
    "    \"model photography\": \"model_photography\",\n",
    "    \"price 2\": \"is_higher_than_avg\"\n",
    "})"
   ],
   "execution_count": 8,
   "outputs": []
  },
  {
   "cell_type": "code",
   "metadata": {
    "ExecuteTime": {
     "end_time": "2024-06-08T00:57:31.189830Z",
     "start_time": "2024-06-08T00:57:31.182298Z"
    }
   },
   "source": [
    "df = df.drop([\"year\", \"page_2\"], axis=1)"
   ],
   "execution_count": 9,
   "outputs": []
  },
  {
   "cell_type": "code",
   "metadata": {
    "ExecuteTime": {
     "end_time": "2024-06-08T00:57:31.197548Z",
     "start_time": "2024-06-08T00:57:31.190809Z"
    }
   },
   "source": [
    "df.isna().sum()"
   ],
   "execution_count": 10,
   "outputs": []
  },
  {
   "cell_type": "code",
   "metadata": {
    "ExecuteTime": {
     "end_time": "2024-06-08T00:57:31.201548Z",
     "start_time": "2024-06-08T00:57:31.198242Z"
    }
   },
   "source": [
    "df['is_higher_than_avg'] = (df['is_higher_than_avg'] == 1).astype(int)"
   ],
   "execution_count": 11,
   "outputs": []
  },
  {
   "cell_type": "code",
   "metadata": {
    "ExecuteTime": {
     "end_time": "2024-06-08T00:57:31.205006Z",
     "start_time": "2024-06-08T00:57:31.202187Z"
    }
   },
   "source": [
    "df['model_photography'] = (df['model_photography'] == 1).astype(int)"
   ],
   "execution_count": 12,
   "outputs": []
  },
  {
   "cell_type": "code",
   "metadata": {
    "ExecuteTime": {
     "end_time": "2024-06-08T00:57:31.210690Z",
     "start_time": "2024-06-08T00:57:31.206638Z"
    }
   },
   "source": [
    "df.head()"
   ],
   "execution_count": 13,
   "outputs": []
  },
  {
   "cell_type": "code",
   "metadata": {
    "ExecuteTime": {
     "end_time": "2024-06-08T00:57:31.214911Z",
     "start_time": "2024-06-08T00:57:31.211640Z"
    }
   },
   "source": [
    "df['page'].unique()"
   ],
   "execution_count": 14,
   "outputs": []
  },
  {
   "cell_type": "code",
   "metadata": {
    "ExecuteTime": {
     "end_time": "2024-06-08T00:57:31.228030Z",
     "start_time": "2024-06-08T00:57:31.215609Z"
    }
   },
   "source": [
    "# Create a figure\n",
    "fig = plt.gcf()\n",
    "\n",
    "# Change seaborn plot size\n",
    "fig.set_size_inches(10, 6)\n"
   ],
   "execution_count": 15,
   "outputs": []
  },
  {
   "cell_type": "code",
   "metadata": {
    "ExecuteTime": {
     "end_time": "2024-06-08T00:57:31.269073Z",
     "start_time": "2024-06-08T00:57:31.228697Z"
    }
   },
   "source": [
    "# remove the first one\n",
    "df.corr()[\"is_higher_than_avg\"].sort_values(ascending=False)[1:]\n",
    "# df.corr()[\"price\"].sort_values(ascending=False)[1:]"
   ],
   "execution_count": 16,
   "outputs": []
  },
  {
   "cell_type": "code",
   "metadata": {
    "ExecuteTime": {
     "end_time": "2024-06-08T00:57:31.607460Z",
     "start_time": "2024-06-08T00:57:31.270054Z"
    }
   },
   "source": [
    "#Correlation Graph\n",
    "\n",
    "plt.figure(figsize=(18, 8))\n",
    "\n",
    "sn.heatmap(df.corr(), annot=True, cmap=\"Greens\")"
   ],
   "execution_count": 17,
   "outputs": []
  },
  {
   "cell_type": "code",
   "metadata": {
    "ExecuteTime": {
     "end_time": "2024-06-08T00:57:31.613563Z",
     "start_time": "2024-06-08T00:57:31.608401Z"
    }
   },
   "source": [
    "df.dtypes"
   ],
   "execution_count": 18,
   "outputs": []
  },
  {
   "cell_type": "code",
   "metadata": {
    "ExecuteTime": {
     "end_time": "2024-06-08T00:57:31.625361Z",
     "start_time": "2024-06-08T00:57:31.615049Z"
    }
   },
   "source": [
    "# place is_higher_than_avg at the end of the data frame\n",
    "is_higher_than_avg = df[\"is_higher_than_avg\"]\n",
    "\n",
    "df.drop(\"is_higher_than_avg\", axis=1, inplace=True)\n",
    "\n",
    "df[\"is_higher_than_avg\"] = is_higher_than_avg\n",
    "\n",
    "is_higher_than_avg"
   ],
   "execution_count": 19,
   "outputs": []
  },
  {
   "cell_type": "code",
   "metadata": {
    "ExecuteTime": {
     "end_time": "2024-06-08T00:57:31.634002Z",
     "start_time": "2024-06-08T00:57:31.631260Z"
    }
   },
   "source": [
    "columns_name = df.columns\n",
    "target = \"price\"\n",
    "\n",
    "for label in columns_name:\n",
    "    if label == target:\n",
    "        continue"
   ],
   "execution_count": 20,
   "outputs": []
  },
  {
   "cell_type": "code",
   "metadata": {
    "ExecuteTime": {
     "end_time": "2024-06-08T00:57:31.897357Z",
     "start_time": "2024-06-08T00:57:31.634805Z"
    }
   },
   "source": "df['is_higher_than_avg'].plot.hist()",
   "execution_count": 21,
   "outputs": []
  },
  {
   "cell_type": "code",
   "metadata": {
    "ExecuteTime": {
     "end_time": "2024-06-08T00:57:31.923841Z",
     "start_time": "2024-06-08T00:57:31.898127Z"
    }
   },
   "source": [
    "df_len = len(df)\n",
    "\n",
    "train, test = np.split(df.sample(frac=1), [int(0.8 * df_len)])\n",
    "\n",
    "print(df_len, len(train), len(test))"
   ],
   "execution_count": 22,
   "outputs": []
  },
  {
   "cell_type": "code",
   "metadata": {
    "ExecuteTime": {
     "end_time": "2024-06-08T00:57:31.927989Z",
     "start_time": "2024-06-08T00:57:31.925051Z"
    }
   },
   "source": [
    "# , show_standardize = False\n",
    "def scale_dataset(data_frame):\n",
    "    X = data_frame[data_frame.columns[:-1]].values  # these are the columns needed for the prediction\n",
    "    y = data_frame[data_frame.columns[-1]].values  # this is the predicted column\n",
    "\n",
    "    # if show_standardize:\n",
    "    scaler = StandardScaler()\n",
    "    X = scaler.fit_transform(X)\n",
    "\n",
    "    data = np.hstack((X, np.reshape(y, (-1, 1))))\n",
    "\n",
    "    return data, X, y"
   ],
   "execution_count": 23,
   "outputs": []
  },
  {
   "cell_type": "code",
   "metadata": {
    "ExecuteTime": {
     "end_time": "2024-06-08T00:57:31.945118Z",
     "start_time": "2024-06-08T00:57:31.928958Z"
    }
   },
   "source": [
    "train, X_train, y_train = scale_dataset(train)\n",
    "test, X_test, y_test = scale_dataset(test)"
   ],
   "execution_count": 24,
   "outputs": []
  },
  {
   "cell_type": "code",
   "metadata": {
    "ExecuteTime": {
     "end_time": "2024-06-08T00:57:31.948418Z",
     "start_time": "2024-06-08T00:57:31.945787Z"
    }
   },
   "source": [
    "X_train.shape"
   ],
   "execution_count": 25,
   "outputs": []
  },
  {
   "cell_type": "code",
   "metadata": {
    "ExecuteTime": {
     "end_time": "2024-06-08T00:57:31.951328Z",
     "start_time": "2024-06-08T00:57:31.948891Z"
    }
   },
   "source": [
    "X_test.shape"
   ],
   "execution_count": 26,
   "outputs": []
  },
  {
   "cell_type": "code",
   "metadata": {
    "ExecuteTime": {
     "end_time": "2024-06-08T00:57:32.322769Z",
     "start_time": "2024-06-08T00:57:31.952162Z"
    }
   },
   "source": [
    "# import necessary libraries for KNN model\n",
    "\n",
    "from sklearn.neighbors import KNeighborsClassifier\n",
    "from sklearn.metrics import classification_report"
   ],
   "execution_count": 27,
   "outputs": []
  },
  {
   "cell_type": "code",
   "metadata": {
    "ExecuteTime": {
     "end_time": "2024-06-08T00:57:34.659134Z",
     "start_time": "2024-06-08T00:57:32.323347Z"
    }
   },
   "source": [
    "# Train\n",
    "knn_model = KNeighborsClassifier()\n",
    "knn_model.fit(X_train, y_train)\n",
    "\n",
    "# predict\n",
    "y_pred = knn_model.predict(X_test)\n",
    "print(classification_report(y_test, y_pred))"
   ],
   "execution_count": 28,
   "outputs": []
  },
  {
   "cell_type": "markdown",
   "metadata": {},
   "source": [
    "**Logistic Regression**"
   ]
  },
  {
   "cell_type": "code",
   "metadata": {
    "ExecuteTime": {
     "end_time": "2024-06-08T00:57:34.665035Z",
     "start_time": "2024-06-08T00:57:34.662630Z"
    }
   },
   "source": [
    "from sklearn.linear_model import LogisticRegression"
   ],
   "execution_count": 29,
   "outputs": []
  },
  {
   "cell_type": "code",
   "metadata": {
    "ExecuteTime": {
     "end_time": "2024-06-08T00:57:35.003025Z",
     "start_time": "2024-06-08T00:57:34.665642Z"
    }
   },
   "source": [
    "# train\n",
    "\n",
    "lg_model = LogisticRegression()\n",
    "lg_model = lg_model.fit(X_train, y_train)\n",
    "\n",
    "# predict\n",
    "\n",
    "y_pred = lg_model.predict(X_test)\n",
    "print(classification_report(y_test, y_pred))"
   ],
   "execution_count": 30,
   "outputs": []
  },
  {
   "cell_type": "code",
   "metadata": {
    "ExecuteTime": {
     "end_time": "2024-06-08T00:57:35.040688Z",
     "start_time": "2024-06-08T00:57:35.019715Z"
    }
   },
   "source": [
    "from sklearn.linear_model import LinearRegression\n",
    "from sklearn.metrics import r2_score\n",
    "from sklearn import metrics\n"
   ],
   "execution_count": 31,
   "outputs": []
  },
  {
   "cell_type": "code",
   "metadata": {
    "ExecuteTime": {
     "end_time": "2024-06-08T00:57:35.112210Z",
     "start_time": "2024-06-08T00:57:35.043070Z"
    }
   },
   "source": [
    "# train\n",
    "lr_model = LinearRegression()\n",
    "lr_model = lr_model.fit(X_train, y_train)\n",
    "\n",
    "# predict\n",
    "y_pred = lr_model.predict(X_train)\n",
    "accuracy = r2_score(y_train, y_pred)\n",
    "\n",
    "print(f'Accuracy of trained dataset is {accuracy}')\n",
    "\n",
    "y_pred = lr_model.predict(X_test)\n",
    "accuracy = r2_score(y_test, y_pred)\n",
    "\n",
    "print(f'Accuracy of test dataset is {accuracy}')"
   ],
   "execution_count": 32,
   "outputs": []
  },
  {
   "cell_type": "code",
   "metadata": {
    "ExecuteTime": {
     "end_time": "2024-06-08T00:57:35.119324Z",
     "start_time": "2024-06-08T00:57:35.114665Z"
    }
   },
   "source": [
    "# Evaluate Linear Regression with\n",
    "mae_lr = metrics.mean_absolute_error(y_test, y_pred)\n",
    "mse_lr = metrics.mean_squared_error(y_test, y_pred)\n",
    "rmse_lr = np.sqrt(metrics.mean_squared_error(y_test, y_pred))\n",
    "\n",
    "print(f'The mean absolute error is {mae_lr}.')\n",
    "print(f'The mean squared error is {mse_lr}.')\n",
    "print(f'The root mean squared error is {rmse_lr}.')"
   ],
   "execution_count": 33,
   "outputs": []
  },
  {
   "cell_type": "code",
   "metadata": {
    "ExecuteTime": {
     "end_time": "2024-06-08T00:57:35.142915Z",
     "start_time": "2024-06-08T00:57:35.124638Z"
    }
   },
   "source": [
    "rsqLinReg = (lr_model.score(X_train, y_train)).round(3)\n",
    "print(f\"coefficient of determination: {rsqLinReg}\")"
   ],
   "execution_count": 34,
   "outputs": []
  }
 ],
 "metadata": {
  "kernelspec": {
   "display_name": "base",
   "language": "python",
   "name": "python3"
  },
  "language_info": {
   "codemirror_mode": {
    "name": "ipython",
    "version": 3
   },
   "file_extension": ".py",
   "mimetype": "text/x-python",
   "name": "python",
   "nbconvert_exporter": "python",
   "pygments_lexer": "ipython3",
   "version": "3.11.5"
  }
 },
 "nbformat": 4,
 "nbformat_minor": 2
}
